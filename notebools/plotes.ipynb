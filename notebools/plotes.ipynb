{
 "cells": [
  {
   "cell_type": "code",
   "execution_count": 1,
   "outputs": [],
   "source": [
    "import pandas as pd\n",
    "from tqdm import tqdm\n",
    "from collections import defaultdict\n",
    "import matplotlib.pyplot as plt\n",
    "import os\n",
    "import statistics"
   ],
   "metadata": {
    "collapsed": false,
    "ExecuteTime": {
     "end_time": "2024-03-21T17:22:28.553174600Z",
     "start_time": "2024-03-21T17:22:27.771762300Z"
    }
   }
  },
  {
   "cell_type": "code",
   "execution_count": 36,
   "outputs": [
    {
     "data": {
      "text/plain": "               mst   skv           p                   dt\n0  Александровская  2513  8.80000019  2024-02-06 04:03:25\n1  Александровская  2513  4.20000029  2024-02-06 04:04:28\n2  Александровская  2513           3  2024-02-06 04:06:26\n3  Александровская  2513         5.5  2024-02-06 04:07:25\n4  Александровская  2513         9.5  2024-02-06 04:08:27",
      "text/html": "<div>\n<style scoped>\n    .dataframe tbody tr th:only-of-type {\n        vertical-align: middle;\n    }\n\n    .dataframe tbody tr th {\n        vertical-align: top;\n    }\n\n    .dataframe thead th {\n        text-align: right;\n    }\n</style>\n<table border=\"1\" class=\"dataframe\">\n  <thead>\n    <tr style=\"text-align: right;\">\n      <th></th>\n      <th>mst</th>\n      <th>skv</th>\n      <th>p</th>\n      <th>dt</th>\n    </tr>\n  </thead>\n  <tbody>\n    <tr>\n      <th>0</th>\n      <td>Александровская</td>\n      <td>2513</td>\n      <td>8.80000019</td>\n      <td>2024-02-06 04:03:25</td>\n    </tr>\n    <tr>\n      <th>1</th>\n      <td>Александровская</td>\n      <td>2513</td>\n      <td>4.20000029</td>\n      <td>2024-02-06 04:04:28</td>\n    </tr>\n    <tr>\n      <th>2</th>\n      <td>Александровская</td>\n      <td>2513</td>\n      <td>3</td>\n      <td>2024-02-06 04:06:26</td>\n    </tr>\n    <tr>\n      <th>3</th>\n      <td>Александровская</td>\n      <td>2513</td>\n      <td>5.5</td>\n      <td>2024-02-06 04:07:25</td>\n    </tr>\n    <tr>\n      <th>4</th>\n      <td>Александровская</td>\n      <td>2513</td>\n      <td>9.5</td>\n      <td>2024-02-06 04:08:27</td>\n    </tr>\n  </tbody>\n</table>\n</div>"
     },
     "execution_count": 36,
     "metadata": {},
     "output_type": "execute_result"
    }
   ],
   "source": [
    "df  = pd.read_excel(r\"../data/test3.xlsx\", sheet_name=\"Обрывы_акт.мощность\")\n",
    "df.head()"
   ],
   "metadata": {
    "collapsed": false,
    "ExecuteTime": {
     "end_time": "2024-03-21T17:29:14.573906700Z",
     "start_time": "2024-03-21T17:29:07.707447400Z"
    }
   }
  },
  {
   "cell_type": "code",
   "execution_count": 37,
   "outputs": [
    {
     "data": {
      "text/plain": "(110009, 4)"
     },
     "execution_count": 37,
     "metadata": {},
     "output_type": "execute_result"
    }
   ],
   "source": [
    "df.shape"
   ],
   "metadata": {
    "collapsed": false,
    "ExecuteTime": {
     "end_time": "2024-03-21T17:29:14.621448100Z",
     "start_time": "2024-03-21T17:29:14.576412500Z"
    }
   }
  },
  {
   "cell_type": "code",
   "execution_count": 38,
   "outputs": [
    {
     "data": {
      "text/plain": "         skv           p                       dt\n0       2513  8.80000019      2024-02-06 04:03:25\n1       2513  4.20000029      2024-02-06 04:04:28\n2       2513           3      2024-02-06 04:06:26\n3       2513         5.5      2024-02-06 04:07:25\n4       2513         9.5      2024-02-06 04:08:27\n...      ...         ...                      ...\n110004    86   4.0999999  2024-02-15 02:00:04.000\n110005    86  8.19999981  2024-02-15 02:02:04.000\n110006    86  9.40000057      2024-02-15 02:03:03\n110007    86  8.10000038      2024-02-15 02:03:33\n110008   NaN         4.5                      NaN\n\n[110009 rows x 3 columns]",
      "text/html": "<div>\n<style scoped>\n    .dataframe tbody tr th:only-of-type {\n        vertical-align: middle;\n    }\n\n    .dataframe tbody tr th {\n        vertical-align: top;\n    }\n\n    .dataframe thead th {\n        text-align: right;\n    }\n</style>\n<table border=\"1\" class=\"dataframe\">\n  <thead>\n    <tr style=\"text-align: right;\">\n      <th></th>\n      <th>skv</th>\n      <th>p</th>\n      <th>dt</th>\n    </tr>\n  </thead>\n  <tbody>\n    <tr>\n      <th>0</th>\n      <td>2513</td>\n      <td>8.80000019</td>\n      <td>2024-02-06 04:03:25</td>\n    </tr>\n    <tr>\n      <th>1</th>\n      <td>2513</td>\n      <td>4.20000029</td>\n      <td>2024-02-06 04:04:28</td>\n    </tr>\n    <tr>\n      <th>2</th>\n      <td>2513</td>\n      <td>3</td>\n      <td>2024-02-06 04:06:26</td>\n    </tr>\n    <tr>\n      <th>3</th>\n      <td>2513</td>\n      <td>5.5</td>\n      <td>2024-02-06 04:07:25</td>\n    </tr>\n    <tr>\n      <th>4</th>\n      <td>2513</td>\n      <td>9.5</td>\n      <td>2024-02-06 04:08:27</td>\n    </tr>\n    <tr>\n      <th>...</th>\n      <td>...</td>\n      <td>...</td>\n      <td>...</td>\n    </tr>\n    <tr>\n      <th>110004</th>\n      <td>86</td>\n      <td>4.0999999</td>\n      <td>2024-02-15 02:00:04.000</td>\n    </tr>\n    <tr>\n      <th>110005</th>\n      <td>86</td>\n      <td>8.19999981</td>\n      <td>2024-02-15 02:02:04.000</td>\n    </tr>\n    <tr>\n      <th>110006</th>\n      <td>86</td>\n      <td>9.40000057</td>\n      <td>2024-02-15 02:03:03</td>\n    </tr>\n    <tr>\n      <th>110007</th>\n      <td>86</td>\n      <td>8.10000038</td>\n      <td>2024-02-15 02:03:33</td>\n    </tr>\n    <tr>\n      <th>110008</th>\n      <td>NaN</td>\n      <td>4.5</td>\n      <td>NaN</td>\n    </tr>\n  </tbody>\n</table>\n<p>110009 rows × 3 columns</p>\n</div>"
     },
     "execution_count": 38,
     "metadata": {},
     "output_type": "execute_result"
    }
   ],
   "source": [
    "df.drop([\"Мест-е\"], axis=1, inplace=True, errors=\"ignore\")\n",
    "df.drop([\"Площадь\"], axis=1, inplace=True, errors=\"ignore\")\n",
    "df.drop([\"mst\"], axis=1, inplace=True, errors=\"ignore\")\n",
    "df"
   ],
   "metadata": {
    "collapsed": false,
    "ExecuteTime": {
     "end_time": "2024-03-21T17:29:14.695604800Z",
     "start_time": "2024-03-21T17:29:14.592223100Z"
    }
   }
  },
  {
   "cell_type": "code",
   "execution_count": 6,
   "outputs": [
    {
     "name": "stdout",
     "output_type": "stream",
     "text": [
      "<class 'pandas.core.frame.DataFrame'>\n",
      "RangeIndex: 110009 entries, 0 to 110008\n",
      "Data columns (total 3 columns):\n",
      " #   Column  Non-Null Count   Dtype \n",
      "---  ------  --------------   ----- \n",
      " 0   skv     110008 non-null  object\n",
      " 1   p       110009 non-null  object\n",
      " 2   dt      110008 non-null  object\n",
      "dtypes: object(3)\n",
      "memory usage: 2.5+ MB\n"
     ]
    }
   ],
   "source": [
    "df.info();"
   ],
   "metadata": {
    "collapsed": false,
    "ExecuteTime": {
     "end_time": "2024-03-21T17:23:09.684082600Z",
     "start_time": "2024-03-21T17:23:09.652667300Z"
    }
   }
  },
  {
   "cell_type": "code",
   "execution_count": 40,
   "outputs": [
    {
     "data": {
      "text/plain": "         skv           p                       dt\n0       2513  8.80000019      2024-02-06 04:03:25\n1       2513  4.20000029      2024-02-06 04:04:28\n2       2513           3      2024-02-06 04:06:26\n3       2513         5.5      2024-02-06 04:07:25\n4       2513         9.5      2024-02-06 04:08:27\n...      ...         ...                      ...\n110004    86   4.0999999  2024-02-15 02:00:04.000\n110005    86  8.19999981  2024-02-15 02:02:04.000\n110006    86  9.40000057      2024-02-15 02:03:03\n110007    86  8.10000038      2024-02-15 02:03:33\n110008   NaN         4.5                      NaN\n\n[110009 rows x 3 columns]",
      "text/html": "<div>\n<style scoped>\n    .dataframe tbody tr th:only-of-type {\n        vertical-align: middle;\n    }\n\n    .dataframe tbody tr th {\n        vertical-align: top;\n    }\n\n    .dataframe thead th {\n        text-align: right;\n    }\n</style>\n<table border=\"1\" class=\"dataframe\">\n  <thead>\n    <tr style=\"text-align: right;\">\n      <th></th>\n      <th>skv</th>\n      <th>p</th>\n      <th>dt</th>\n    </tr>\n  </thead>\n  <tbody>\n    <tr>\n      <th>0</th>\n      <td>2513</td>\n      <td>8.80000019</td>\n      <td>2024-02-06 04:03:25</td>\n    </tr>\n    <tr>\n      <th>1</th>\n      <td>2513</td>\n      <td>4.20000029</td>\n      <td>2024-02-06 04:04:28</td>\n    </tr>\n    <tr>\n      <th>2</th>\n      <td>2513</td>\n      <td>3</td>\n      <td>2024-02-06 04:06:26</td>\n    </tr>\n    <tr>\n      <th>3</th>\n      <td>2513</td>\n      <td>5.5</td>\n      <td>2024-02-06 04:07:25</td>\n    </tr>\n    <tr>\n      <th>4</th>\n      <td>2513</td>\n      <td>9.5</td>\n      <td>2024-02-06 04:08:27</td>\n    </tr>\n    <tr>\n      <th>...</th>\n      <td>...</td>\n      <td>...</td>\n      <td>...</td>\n    </tr>\n    <tr>\n      <th>110004</th>\n      <td>86</td>\n      <td>4.0999999</td>\n      <td>2024-02-15 02:00:04.000</td>\n    </tr>\n    <tr>\n      <th>110005</th>\n      <td>86</td>\n      <td>8.19999981</td>\n      <td>2024-02-15 02:02:04.000</td>\n    </tr>\n    <tr>\n      <th>110006</th>\n      <td>86</td>\n      <td>9.40000057</td>\n      <td>2024-02-15 02:03:03</td>\n    </tr>\n    <tr>\n      <th>110007</th>\n      <td>86</td>\n      <td>8.10000038</td>\n      <td>2024-02-15 02:03:33</td>\n    </tr>\n    <tr>\n      <th>110008</th>\n      <td>NaN</td>\n      <td>4.5</td>\n      <td>NaN</td>\n    </tr>\n  </tbody>\n</table>\n<p>110009 rows × 3 columns</p>\n</div>"
     },
     "execution_count": 40,
     "metadata": {},
     "output_type": "execute_result"
    }
   ],
   "source": [
    "df[\"p\"] = df.apply(lambda x: str(x.p).replace(\",\", \".\"), axis=1)\n",
    "df"
   ],
   "metadata": {
    "collapsed": false,
    "ExecuteTime": {
     "end_time": "2024-03-21T17:29:22.160167200Z",
     "start_time": "2024-03-21T17:29:21.709557800Z"
    }
   }
  },
  {
   "cell_type": "code",
   "execution_count": 41,
   "outputs": [],
   "source": [
    "def get_num(x):\n",
    "    try:\n",
    "        if isinstance(float(x), float):\n",
    "            return round(float(x),2)\n",
    "    except:\n",
    "        return None"
   ],
   "metadata": {
    "collapsed": false,
    "ExecuteTime": {
     "end_time": "2024-03-21T17:29:27.278455500Z",
     "start_time": "2024-03-21T17:29:27.259071700Z"
    }
   }
  },
  {
   "cell_type": "code",
   "execution_count": 42,
   "outputs": [],
   "source": [
    "df[\"p\"] = df[\"p\"].apply(lambda x: get_num(x))"
   ],
   "metadata": {
    "collapsed": false,
    "ExecuteTime": {
     "end_time": "2024-03-21T17:29:28.952798900Z",
     "start_time": "2024-03-21T17:29:28.854493100Z"
    }
   }
  },
  {
   "cell_type": "code",
   "execution_count": 43,
   "outputs": [
    {
     "data": {
      "text/plain": "p\n0.00     17616\n1.40      2630\n1.20      2408\n1.30      2264\n1.10      1652\n         ...  \n20.82        1\n15.27        1\n19.53        1\n14.28        1\n18.82        1\nName: count, Length: 2483, dtype: int64"
     },
     "execution_count": 43,
     "metadata": {},
     "output_type": "execute_result"
    }
   ],
   "source": [
    "df[\"p\"].value_counts()"
   ],
   "metadata": {
    "collapsed": false,
    "ExecuteTime": {
     "end_time": "2024-03-21T17:29:29.850186700Z",
     "start_time": "2024-03-21T17:29:29.822507100Z"
    }
   }
  },
  {
   "cell_type": "code",
   "execution_count": 45,
   "outputs": [],
   "source": [
    "df = df.query(\"p >=-100 and p<=100\")"
   ],
   "metadata": {
    "collapsed": false,
    "ExecuteTime": {
     "end_time": "2024-03-21T17:29:39.465669Z",
     "start_time": "2024-03-21T17:29:39.440657800Z"
    }
   }
  },
  {
   "cell_type": "code",
   "execution_count": 46,
   "outputs": [
    {
     "name": "stdout",
     "output_type": "stream",
     "text": [
      "-70.3 47.1 3.9799290948847674\n"
     ]
    }
   ],
   "source": [
    "try:\n",
    "    print(df['Значение'].min(), df['Значение'].max(), df['Значение'].mean())\n",
    "except:\n",
    "\n",
    "    print(df['p'].min(), df['p'].max(), df['p'].mean())"
   ],
   "metadata": {
    "collapsed": false,
    "ExecuteTime": {
     "end_time": "2024-03-21T17:29:40.478482500Z",
     "start_time": "2024-03-21T17:29:40.455950400Z"
    }
   }
  },
  {
   "cell_type": "code",
   "execution_count": 47,
   "outputs": [
    {
     "data": {
      "text/plain": "         skv    p                       dt\n0       2513  8.8      2024-02-06 04:03:25\n1       2513  4.2      2024-02-06 04:04:28\n2       2513  3.0      2024-02-06 04:06:26\n3       2513  5.5      2024-02-06 04:07:25\n4       2513  9.5      2024-02-06 04:08:27\n...      ...  ...                      ...\n110004    86  4.1  2024-02-15 02:00:04.000\n110005    86  8.2  2024-02-15 02:02:04.000\n110006    86  9.4      2024-02-15 02:03:03\n110007    86  8.1      2024-02-15 02:03:33\n110008   NaN  4.5                      NaN\n\n[109301 rows x 3 columns]",
      "text/html": "<div>\n<style scoped>\n    .dataframe tbody tr th:only-of-type {\n        vertical-align: middle;\n    }\n\n    .dataframe tbody tr th {\n        vertical-align: top;\n    }\n\n    .dataframe thead th {\n        text-align: right;\n    }\n</style>\n<table border=\"1\" class=\"dataframe\">\n  <thead>\n    <tr style=\"text-align: right;\">\n      <th></th>\n      <th>skv</th>\n      <th>p</th>\n      <th>dt</th>\n    </tr>\n  </thead>\n  <tbody>\n    <tr>\n      <th>0</th>\n      <td>2513</td>\n      <td>8.8</td>\n      <td>2024-02-06 04:03:25</td>\n    </tr>\n    <tr>\n      <th>1</th>\n      <td>2513</td>\n      <td>4.2</td>\n      <td>2024-02-06 04:04:28</td>\n    </tr>\n    <tr>\n      <th>2</th>\n      <td>2513</td>\n      <td>3.0</td>\n      <td>2024-02-06 04:06:26</td>\n    </tr>\n    <tr>\n      <th>3</th>\n      <td>2513</td>\n      <td>5.5</td>\n      <td>2024-02-06 04:07:25</td>\n    </tr>\n    <tr>\n      <th>4</th>\n      <td>2513</td>\n      <td>9.5</td>\n      <td>2024-02-06 04:08:27</td>\n    </tr>\n    <tr>\n      <th>...</th>\n      <td>...</td>\n      <td>...</td>\n      <td>...</td>\n    </tr>\n    <tr>\n      <th>110004</th>\n      <td>86</td>\n      <td>4.1</td>\n      <td>2024-02-15 02:00:04.000</td>\n    </tr>\n    <tr>\n      <th>110005</th>\n      <td>86</td>\n      <td>8.2</td>\n      <td>2024-02-15 02:02:04.000</td>\n    </tr>\n    <tr>\n      <th>110006</th>\n      <td>86</td>\n      <td>9.4</td>\n      <td>2024-02-15 02:03:03</td>\n    </tr>\n    <tr>\n      <th>110007</th>\n      <td>86</td>\n      <td>8.1</td>\n      <td>2024-02-15 02:03:33</td>\n    </tr>\n    <tr>\n      <th>110008</th>\n      <td>NaN</td>\n      <td>4.5</td>\n      <td>NaN</td>\n    </tr>\n  </tbody>\n</table>\n<p>109301 rows × 3 columns</p>\n</div>"
     },
     "execution_count": 47,
     "metadata": {},
     "output_type": "execute_result"
    }
   ],
   "source": [
    "df"
   ],
   "metadata": {
    "collapsed": false,
    "ExecuteTime": {
     "end_time": "2024-03-21T17:29:44.325693300Z",
     "start_time": "2024-03-21T17:29:44.306961500Z"
    }
   }
  },
  {
   "cell_type": "code",
   "execution_count": 48,
   "outputs": [],
   "source": [
    "dicter = defaultdict(list)\n",
    "for index, row in df.iterrows():\n",
    "    dicter[row[\"skv\"]].append(round(row[\"p\"],2))"
   ],
   "metadata": {
    "collapsed": false,
    "ExecuteTime": {
     "end_time": "2024-03-21T17:29:51.423333700Z",
     "start_time": "2024-03-21T17:29:47.314566100Z"
    }
   }
  },
  {
   "cell_type": "code",
   "execution_count": 43,
   "outputs": [
    {
     "data": {
      "text/plain": "dict_keys([2513, 751, '11088Г', 335, 384, 6284, 880, 120, 443, 654, '10КНД', 2066, 107, 43, 10008, '129НБР', 191, '30УЗБ', 3207, 3825, 4935, 958, '81СВА', 1949, 2040, 808, 1322, '4373г', 1260, 2176, 2806, 2837, 3392, 479, 702, 1401, '207г', 86, nan])"
     },
     "execution_count": 43,
     "metadata": {},
     "output_type": "execute_result"
    }
   ],
   "source": [
    "dicter.keys()"
   ],
   "metadata": {
    "collapsed": false,
    "ExecuteTime": {
     "end_time": "2024-03-19T11:09:48.954284300Z",
     "start_time": "2024-03-19T11:09:48.925949400Z"
    }
   }
  },
  {
   "cell_type": "code",
   "execution_count": null,
   "outputs": [],
   "source": [],
   "metadata": {
    "collapsed": false
   }
  },
  {
   "cell_type": "code",
   "execution_count": 45,
   "outputs": [
    {
     "name": "stderr",
     "output_type": "stream",
     "text": [
      " 23%|██▎       | 9/39 [00:04<00:16,  1.77it/s]"
     ]
    },
    {
     "name": "stdout",
     "output_type": "stream",
     "text": [
      "10КНД 19\n"
     ]
    },
    {
     "name": "stderr",
     "output_type": "stream",
     "text": [
      " 46%|████▌     | 18/39 [00:08<00:09,  2.31it/s]"
     ]
    },
    {
     "name": "stdout",
     "output_type": "stream",
     "text": [
      "3207 7\n",
      "3207 23\n"
     ]
    },
    {
     "name": "stderr",
     "output_type": "stream",
     "text": [
      " 67%|██████▋   | 26/39 [00:12<00:06,  1.92it/s]"
     ]
    },
    {
     "name": "stdout",
     "output_type": "stream",
     "text": [
      "1322 1\n"
     ]
    },
    {
     "name": "stderr",
     "output_type": "stream",
     "text": [
      " 77%|███████▋  | 30/39 [00:15<00:05,  1.60it/s]"
     ]
    },
    {
     "name": "stdout",
     "output_type": "stream",
     "text": [
      "2806 2\n",
      "2806 7\n",
      "2806 8\n"
     ]
    },
    {
     "name": "stderr",
     "output_type": "stream",
     "text": [
      " 79%|███████▉  | 31/39 [00:16<00:06,  1.27it/s]"
     ]
    },
    {
     "name": "stdout",
     "output_type": "stream",
     "text": [
      "2806 17\n",
      "2806 19\n"
     ]
    },
    {
     "name": "stderr",
     "output_type": "stream",
     "text": [
      "100%|██████████| 39/39 [00:19<00:00,  2.02it/s]\n"
     ]
    },
    {
     "data": {
      "text/plain": "<Figure size 640x480 with 0 Axes>"
     },
     "metadata": {},
     "output_type": "display_data"
    }
   ],
   "source": [
    "#plt.figure(figsize=(1.28, 1.28))\n",
    "\n",
    "for k, v in tqdm(dicter.items()):\n",
    "    count = 0\n",
    "    os.makedirs(f'../images//Скв_{k}', exist_ok=True)\n",
    "    #if k != 1101:continue\n",
    "    while 12 * (count+1)<=len(v):\n",
    "        dots = v[count*12:(count+1)*12]\n",
    "        if len(dots) !=12:print(len(dots))\n",
    "        if 0.65 < statistics.pstdev(dots) < 0.95:print(k, count+1)\n",
    "        if statistics.pstdev(dots)<0.65:normalized_data = list(map(lambda x: 0.3, dots))\n",
    "        else: normalized_data = [(value - min(dots)) / (max(dots) - min(dots)) for value in dots]\n",
    "        #print(count, normalized_data, dots)\n",
    "        count+=1\n",
    "        #plt.axis([0, 12, 0, 1])\n",
    "        plt.axis(\"off\")\n",
    "        plt.plot(range(12), normalized_data, linewidth=1, color=\"black\")\n",
    "        #plt.plot(range(12), normalized_data, \"ro\")\n",
    "        for index, y in enumerate(normalized_data):\n",
    "            pass\n",
    "            #plt.text(index,y,dots[index])\n",
    "        plt.savefig(os.path.join(f'../images/Скв_{k}', f'scv_{k}_{count}'), pad_inches=0)\n",
    "\n",
    "        plt.clf()"
   ],
   "metadata": {
    "collapsed": false,
    "ExecuteTime": {
     "end_time": "2024-03-19T11:13:01.557293300Z",
     "start_time": "2024-03-19T11:12:42.192183Z"
    }
   }
  },
  {
   "cell_type": "code",
   "execution_count": 33,
   "outputs": [],
   "source": [
    "mas1 = [2,3,2,2,2,3,1,2,2,1.3]\n",
    "mas2 = [1,1,16,1,1,8, 4,6,16,9,2,8]\n",
    "#mas3 = [2.0, 2.1, 2.0, 2.0, 2.0, 2.0, 2.0, 2.0, 2.0, 2.0, 2.0, 2.0]\n",
    "mas3 = [-1, 1, -9, 0, 0,1, 1, -1,]\n",
    "mas4 = [10,10,10,10,10,10,12,12,12,12,12,12]\n",
    "mas5 = [16,2,16,2,16,2,16,2,16,2,16,2]\n",
    "mas6 = [98,96,98,96,98,96,98,96,98,96,98,96]\n",
    "mas7 = [3.79999995,\n",
    "4.20000029,\n",
    "5.20000029,\n",
    "2.9000001,\n",
    "3.70000005,\n",
    "5.0999999,\n",
    "4.80000019,\n",
    "5.5999999,\n",
    "5.5,\n",
    "4.9000001,\n",
    "5.70000029,\n",
    "5.30000019,\n",
    "]"
   ],
   "metadata": {
    "collapsed": false,
    "ExecuteTime": {
     "end_time": "2024-01-25T04:58:02.134241700Z",
     "start_time": "2024-01-25T04:58:02.112690800Z"
    }
   }
  },
  {
   "cell_type": "code",
   "execution_count": 34,
   "outputs": [
    {
     "name": "stdout",
     "output_type": "stream",
     "text": [
      "mas1. mean = 2.03, median = 2.0, sum = 20.3, std = 0.3867777777777778, psdev = 0.59, pvariancee = 0.3481\n",
      "mas2. mean = 6.083333333333333, median = 5.0, sum = 73, std = 30.62878787878788, psdev = 5.29871577732651, pvariancee = 28.07638888888889\n",
      "mas4. mean = 11, median = 11.0, sum = 132, std = 1.0909090909090908, psdev = 1.0, pvariancee = 1\n",
      "mas3. mean = -1, median = 0.0, sum = -8, std = 11.142857142857142, psdev = 3.122498999199199, pvariancee = 9.75\n",
      "mas5. mean = 9, median = 9.0, sum = 108, std = 53.45454545454545, psdev = 7.0, pvariancee = 49\n",
      "mas6. mean = 97, median = 97.0, sum = 108, std = 1.0909090909090908, psdev = 1.0, pvariancee = 1\n",
      "mas7. mean = 4.725000104166667, median = 5.0, sum = 56.70000125, std = 0.7784091085000219, psdev = 0.8447139650743835, pvariancee = 0.7135416827916867\n"
     ]
    }
   ],
   "source": [
    "print(f'mas1. mean = {statistics.mean(mas1)}, median = {statistics.median(mas1)}, sum = {sum(mas1)}, std = {statistics.variance(mas1)}, psdev = {statistics.pstdev(mas1)}, pvariancee = {statistics.pvariance(mas1)}')\n",
    "print(f'mas2. mean = {statistics.mean(mas2)}, median = {statistics.median(mas2)}, sum = {sum(mas2)}, std = {statistics.variance(mas2)}, psdev = {statistics.pstdev(mas2)}, pvariancee = {statistics.pvariance(mas2)}')\n",
    "print(f'mas4. mean = {statistics.mean(mas4)}, median = {statistics.median(mas4)}, sum = {sum(mas4)}, std = {statistics.variance(mas4)}, psdev = {statistics.pstdev(mas4)}, pvariancee = {statistics.pvariance(mas4)}')\n",
    "print(f'mas3. mean = {statistics.mean(mas3)}, median = {statistics.median(mas3)}, sum = {sum(mas3)}, std = {statistics.variance(mas3)}, psdev = {statistics.pstdev(mas3)}, pvariancee = {statistics.pvariance(mas3)}')\n",
    "print(f'mas5. mean = {statistics.mean(mas5)}, median = {statistics.median(mas5)}, sum = {sum(mas5)}, std = {statistics.variance(mas5)}, psdev = {statistics.pstdev(mas5)}, pvariancee = {statistics.pvariance(mas5)}')\n",
    "print(f'mas6. mean = {statistics.mean(mas6)}, median = {statistics.median(mas6)}, sum = {sum(mas5)}, std = {statistics.variance(mas6)}, psdev = {statistics.pstdev(mas6)}, pvariancee = {statistics.pvariance(mas6)}')\n",
    "print(f'mas7. mean = {statistics.mean(mas7)}, median = {statistics.median(mas7)}, sum = {sum(mas7)}, std = {statistics.variance(mas7)}, psdev = {statistics.pstdev(mas7)}, pvariancee = {statistics.pvariance(mas7)}')"
   ],
   "metadata": {
    "collapsed": false,
    "ExecuteTime": {
     "end_time": "2024-01-25T04:58:04.796643900Z",
     "start_time": "2024-01-25T04:58:04.761610500Z"
    }
   }
  },
  {
   "cell_type": "code",
   "execution_count": 150,
   "outputs": [
    {
     "data": {
      "text/plain": "12"
     },
     "execution_count": 150,
     "metadata": {},
     "output_type": "execute_result"
    }
   ],
   "source": [
    "len(range(12))"
   ],
   "metadata": {
    "collapsed": false,
    "ExecuteTime": {
     "end_time": "2024-01-24T10:53:07.827112800Z",
     "start_time": "2024-01-24T10:53:07.802175200Z"
    }
   }
  },
  {
   "cell_type": "code",
   "execution_count": 10,
   "outputs": [
    {
     "data": {
      "text/plain": "       Скважина          p               Дата-время\n0          2513   8.400001      2024-02-06 04:03:41\n1          2513   2.900000      2024-02-06 04:04:42\n2          2513   9.900001      2024-02-06 04:06:41\n3          2513   1.600000      2024-02-06 04:07:40\n4          2513   1.800000      2024-02-06 04:08:41\n...         ...        ...                      ...\n110003       86  12.000000  2024-02-15 01:58:04.040\n110004       86   4.100000  2024-02-15 02:00:04.000\n110005       86   8.200000  2024-02-15 02:02:04.000\n110006       86   9.400001      2024-02-15 02:03:03\n110007       86   8.100000      2024-02-15 02:03:33\n\n[110008 rows x 3 columns]",
      "text/html": "<div>\n<style scoped>\n    .dataframe tbody tr th:only-of-type {\n        vertical-align: middle;\n    }\n\n    .dataframe tbody tr th {\n        vertical-align: top;\n    }\n\n    .dataframe thead th {\n        text-align: right;\n    }\n</style>\n<table border=\"1\" class=\"dataframe\">\n  <thead>\n    <tr style=\"text-align: right;\">\n      <th></th>\n      <th>Скважина</th>\n      <th>p</th>\n      <th>Дата-время</th>\n    </tr>\n  </thead>\n  <tbody>\n    <tr>\n      <th>0</th>\n      <td>2513</td>\n      <td>8.400001</td>\n      <td>2024-02-06 04:03:41</td>\n    </tr>\n    <tr>\n      <th>1</th>\n      <td>2513</td>\n      <td>2.900000</td>\n      <td>2024-02-06 04:04:42</td>\n    </tr>\n    <tr>\n      <th>2</th>\n      <td>2513</td>\n      <td>9.900001</td>\n      <td>2024-02-06 04:06:41</td>\n    </tr>\n    <tr>\n      <th>3</th>\n      <td>2513</td>\n      <td>1.600000</td>\n      <td>2024-02-06 04:07:40</td>\n    </tr>\n    <tr>\n      <th>4</th>\n      <td>2513</td>\n      <td>1.800000</td>\n      <td>2024-02-06 04:08:41</td>\n    </tr>\n    <tr>\n      <th>...</th>\n      <td>...</td>\n      <td>...</td>\n      <td>...</td>\n    </tr>\n    <tr>\n      <th>110003</th>\n      <td>86</td>\n      <td>12.000000</td>\n      <td>2024-02-15 01:58:04.040</td>\n    </tr>\n    <tr>\n      <th>110004</th>\n      <td>86</td>\n      <td>4.100000</td>\n      <td>2024-02-15 02:00:04.000</td>\n    </tr>\n    <tr>\n      <th>110005</th>\n      <td>86</td>\n      <td>8.200000</td>\n      <td>2024-02-15 02:02:04.000</td>\n    </tr>\n    <tr>\n      <th>110006</th>\n      <td>86</td>\n      <td>9.400001</td>\n      <td>2024-02-15 02:03:03</td>\n    </tr>\n    <tr>\n      <th>110007</th>\n      <td>86</td>\n      <td>8.100000</td>\n      <td>2024-02-15 02:03:33</td>\n    </tr>\n  </tbody>\n</table>\n<p>110008 rows × 3 columns</p>\n</div>"
     },
     "execution_count": 10,
     "metadata": {},
     "output_type": "execute_result"
    }
   ],
   "source": [
    "df"
   ],
   "metadata": {
    "collapsed": false,
    "ExecuteTime": {
     "end_time": "2024-02-27T06:14:58.620064500Z",
     "start_time": "2024-02-27T06:14:58.594065900Z"
    }
   }
  },
  {
   "cell_type": "code",
   "execution_count": null,
   "outputs": [],
   "source": [],
   "metadata": {
    "collapsed": false
   }
  },
  {
   "cell_type": "code",
   "execution_count": 12,
   "outputs": [
    {
     "name": "stdout",
     "output_type": "stream",
     "text": [
      "2513\n"
     ]
    },
    {
     "ename": "ValueError",
     "evalue": "Value of 'x' is not the name of a column in 'data_frame'. Expected one of ['Скважина', 'p', 'Дата-время'] but received: Date",
     "output_type": "error",
     "traceback": [
      "\u001B[1;31m---------------------------------------------------------------------------\u001B[0m",
      "\u001B[1;31mValueError\u001B[0m                                Traceback (most recent call last)",
      "Cell \u001B[1;32mIn[12], line 6\u001B[0m\n\u001B[0;32m      4\u001B[0m \u001B[38;5;28mprint\u001B[39m(i)\n\u001B[0;32m      5\u001B[0m max_I \u001B[38;5;241m=\u001B[39m \u001B[38;5;28mmax\u001B[39m(df[df[\u001B[38;5;124m'\u001B[39m\u001B[38;5;124mСкважина\u001B[39m\u001B[38;5;124m'\u001B[39m]\u001B[38;5;241m==\u001B[39mi][\u001B[38;5;124m'\u001B[39m\u001B[38;5;124mp\u001B[39m\u001B[38;5;124m'\u001B[39m])\n\u001B[1;32m----> 6\u001B[0m fig \u001B[38;5;241m=\u001B[39m \u001B[43mpx\u001B[49m\u001B[38;5;241;43m.\u001B[39;49m\u001B[43mline\u001B[49m\u001B[43m(\u001B[49m\u001B[43mdf\u001B[49m\u001B[43m[\u001B[49m\u001B[43mdf\u001B[49m\u001B[43m[\u001B[49m\u001B[38;5;124;43m'\u001B[39;49m\u001B[38;5;124;43mСкважина\u001B[39;49m\u001B[38;5;124;43m'\u001B[39;49m\u001B[43m]\u001B[49m\u001B[38;5;241;43m==\u001B[39;49m\u001B[43mi\u001B[49m\u001B[43m]\u001B[49m\u001B[43m,\u001B[49m\u001B[43m \u001B[49m\u001B[43mx\u001B[49m\u001B[38;5;241;43m=\u001B[39;49m\u001B[38;5;124;43m'\u001B[39;49m\u001B[38;5;124;43mDate\u001B[39;49m\u001B[38;5;124;43m'\u001B[39;49m\u001B[43m,\u001B[49m\u001B[43m \u001B[49m\u001B[43my\u001B[49m\u001B[38;5;241;43m=\u001B[39;49m\u001B[38;5;124;43m'\u001B[39;49m\u001B[38;5;124;43mp\u001B[39;49m\u001B[38;5;124;43m'\u001B[39;49m\u001B[43m)\u001B[49m\n\u001B[0;32m      7\u001B[0m fig\u001B[38;5;241m.\u001B[39mupdate_layout(showlegend\u001B[38;5;241m=\u001B[39m\u001B[38;5;28;01mFalse\u001B[39;00m)\n\u001B[0;32m      8\u001B[0m fig\u001B[38;5;241m.\u001B[39mupdate_xaxes(visible\u001B[38;5;241m=\u001B[39m\u001B[38;5;28;01mFalse\u001B[39;00m)\n",
      "File \u001B[1;32m~\\anaconda3\\envs\\rosneft\\lib\\site-packages\\plotly\\express\\_chart_types.py:264\u001B[0m, in \u001B[0;36mline\u001B[1;34m(data_frame, x, y, line_group, color, line_dash, symbol, hover_name, hover_data, custom_data, text, facet_row, facet_col, facet_col_wrap, facet_row_spacing, facet_col_spacing, error_x, error_x_minus, error_y, error_y_minus, animation_frame, animation_group, category_orders, labels, orientation, color_discrete_sequence, color_discrete_map, line_dash_sequence, line_dash_map, symbol_sequence, symbol_map, markers, log_x, log_y, range_x, range_y, line_shape, render_mode, title, template, width, height)\u001B[0m\n\u001B[0;32m    216\u001B[0m \u001B[38;5;28;01mdef\u001B[39;00m \u001B[38;5;21mline\u001B[39m(\n\u001B[0;32m    217\u001B[0m     data_frame\u001B[38;5;241m=\u001B[39m\u001B[38;5;28;01mNone\u001B[39;00m,\n\u001B[0;32m    218\u001B[0m     x\u001B[38;5;241m=\u001B[39m\u001B[38;5;28;01mNone\u001B[39;00m,\n\u001B[1;32m   (...)\u001B[0m\n\u001B[0;32m    258\u001B[0m     height\u001B[38;5;241m=\u001B[39m\u001B[38;5;28;01mNone\u001B[39;00m,\n\u001B[0;32m    259\u001B[0m ) \u001B[38;5;241m-\u001B[39m\u001B[38;5;241m>\u001B[39m go\u001B[38;5;241m.\u001B[39mFigure:\n\u001B[0;32m    260\u001B[0m \u001B[38;5;250m    \u001B[39m\u001B[38;5;124;03m\"\"\"\u001B[39;00m\n\u001B[0;32m    261\u001B[0m \u001B[38;5;124;03m    In a 2D line plot, each row of `data_frame` is represented as vertex of\u001B[39;00m\n\u001B[0;32m    262\u001B[0m \u001B[38;5;124;03m    a polyline mark in 2D space.\u001B[39;00m\n\u001B[0;32m    263\u001B[0m \u001B[38;5;124;03m    \"\"\"\u001B[39;00m\n\u001B[1;32m--> 264\u001B[0m     \u001B[38;5;28;01mreturn\u001B[39;00m \u001B[43mmake_figure\u001B[49m\u001B[43m(\u001B[49m\u001B[43margs\u001B[49m\u001B[38;5;241;43m=\u001B[39;49m\u001B[38;5;28;43mlocals\u001B[39;49m\u001B[43m(\u001B[49m\u001B[43m)\u001B[49m\u001B[43m,\u001B[49m\u001B[43m \u001B[49m\u001B[43mconstructor\u001B[49m\u001B[38;5;241;43m=\u001B[39;49m\u001B[43mgo\u001B[49m\u001B[38;5;241;43m.\u001B[39;49m\u001B[43mScatter\u001B[49m\u001B[43m)\u001B[49m\n",
      "File \u001B[1;32m~\\anaconda3\\envs\\rosneft\\lib\\site-packages\\plotly\\express\\_core.py:2090\u001B[0m, in \u001B[0;36mmake_figure\u001B[1;34m(args, constructor, trace_patch, layout_patch)\u001B[0m\n\u001B[0;32m   2087\u001B[0m layout_patch \u001B[38;5;241m=\u001B[39m layout_patch \u001B[38;5;129;01mor\u001B[39;00m {}\n\u001B[0;32m   2088\u001B[0m apply_default_cascade(args)\n\u001B[1;32m-> 2090\u001B[0m args \u001B[38;5;241m=\u001B[39m \u001B[43mbuild_dataframe\u001B[49m\u001B[43m(\u001B[49m\u001B[43margs\u001B[49m\u001B[43m,\u001B[49m\u001B[43m \u001B[49m\u001B[43mconstructor\u001B[49m\u001B[43m)\u001B[49m\n\u001B[0;32m   2091\u001B[0m \u001B[38;5;28;01mif\u001B[39;00m constructor \u001B[38;5;129;01min\u001B[39;00m [go\u001B[38;5;241m.\u001B[39mTreemap, go\u001B[38;5;241m.\u001B[39mSunburst, go\u001B[38;5;241m.\u001B[39mIcicle] \u001B[38;5;129;01mand\u001B[39;00m args[\u001B[38;5;124m\"\u001B[39m\u001B[38;5;124mpath\u001B[39m\u001B[38;5;124m\"\u001B[39m] \u001B[38;5;129;01mis\u001B[39;00m \u001B[38;5;129;01mnot\u001B[39;00m \u001B[38;5;28;01mNone\u001B[39;00m:\n\u001B[0;32m   2092\u001B[0m     args \u001B[38;5;241m=\u001B[39m process_dataframe_hierarchy(args)\n",
      "File \u001B[1;32m~\\anaconda3\\envs\\rosneft\\lib\\site-packages\\plotly\\express\\_core.py:1492\u001B[0m, in \u001B[0;36mbuild_dataframe\u001B[1;34m(args, constructor)\u001B[0m\n\u001B[0;32m   1489\u001B[0m     args[\u001B[38;5;124m\"\u001B[39m\u001B[38;5;124mcolor\u001B[39m\u001B[38;5;124m\"\u001B[39m] \u001B[38;5;241m=\u001B[39m \u001B[38;5;28;01mNone\u001B[39;00m\n\u001B[0;32m   1490\u001B[0m \u001B[38;5;66;03m# now that things have been prepped, we do the systematic rewriting of `args`\u001B[39;00m\n\u001B[1;32m-> 1492\u001B[0m df_output, wide_id_vars \u001B[38;5;241m=\u001B[39m \u001B[43mprocess_args_into_dataframe\u001B[49m\u001B[43m(\u001B[49m\n\u001B[0;32m   1493\u001B[0m \u001B[43m    \u001B[49m\u001B[43margs\u001B[49m\u001B[43m,\u001B[49m\u001B[43m \u001B[49m\u001B[43mwide_mode\u001B[49m\u001B[43m,\u001B[49m\u001B[43m \u001B[49m\u001B[43mvar_name\u001B[49m\u001B[43m,\u001B[49m\u001B[43m \u001B[49m\u001B[43mvalue_name\u001B[49m\n\u001B[0;32m   1494\u001B[0m \u001B[43m\u001B[49m\u001B[43m)\u001B[49m\n\u001B[0;32m   1496\u001B[0m \u001B[38;5;66;03m# now that `df_output` exists and `args` contains only references, we complete\u001B[39;00m\n\u001B[0;32m   1497\u001B[0m \u001B[38;5;66;03m# the special-case and wide-mode handling by further rewriting args and/or mutating\u001B[39;00m\n\u001B[0;32m   1498\u001B[0m \u001B[38;5;66;03m# df_output\u001B[39;00m\n\u001B[0;32m   1500\u001B[0m count_name \u001B[38;5;241m=\u001B[39m _escape_col_name(df_output, \u001B[38;5;124m\"\u001B[39m\u001B[38;5;124mcount\u001B[39m\u001B[38;5;124m\"\u001B[39m, [var_name, value_name])\n",
      "File \u001B[1;32m~\\anaconda3\\envs\\rosneft\\lib\\site-packages\\plotly\\express\\_core.py:1213\u001B[0m, in \u001B[0;36mprocess_args_into_dataframe\u001B[1;34m(args, wide_mode, var_name, value_name)\u001B[0m\n\u001B[0;32m   1211\u001B[0m         \u001B[38;5;28;01mif\u001B[39;00m argument \u001B[38;5;241m==\u001B[39m \u001B[38;5;124m\"\u001B[39m\u001B[38;5;124mindex\u001B[39m\u001B[38;5;124m\"\u001B[39m:\n\u001B[0;32m   1212\u001B[0m             err_msg \u001B[38;5;241m+\u001B[39m\u001B[38;5;241m=\u001B[39m \u001B[38;5;124m\"\u001B[39m\u001B[38;5;130;01m\\n\u001B[39;00m\u001B[38;5;124m To use the index, pass it in directly as `df.index`.\u001B[39m\u001B[38;5;124m\"\u001B[39m\n\u001B[1;32m-> 1213\u001B[0m         \u001B[38;5;28;01mraise\u001B[39;00m \u001B[38;5;167;01mValueError\u001B[39;00m(err_msg)\n\u001B[0;32m   1214\u001B[0m \u001B[38;5;28;01melif\u001B[39;00m length \u001B[38;5;129;01mand\u001B[39;00m \u001B[38;5;28mlen\u001B[39m(df_input[argument]) \u001B[38;5;241m!=\u001B[39m length:\n\u001B[0;32m   1215\u001B[0m     \u001B[38;5;28;01mraise\u001B[39;00m \u001B[38;5;167;01mValueError\u001B[39;00m(\n\u001B[0;32m   1216\u001B[0m         \u001B[38;5;124m\"\u001B[39m\u001B[38;5;124mAll arguments should have the same length. \u001B[39m\u001B[38;5;124m\"\u001B[39m\n\u001B[0;32m   1217\u001B[0m         \u001B[38;5;124m\"\u001B[39m\u001B[38;5;124mThe length of column argument `df[\u001B[39m\u001B[38;5;132;01m%s\u001B[39;00m\u001B[38;5;124m]` is \u001B[39m\u001B[38;5;132;01m%d\u001B[39;00m\u001B[38;5;124m, whereas the \u001B[39m\u001B[38;5;124m\"\u001B[39m\n\u001B[1;32m   (...)\u001B[0m\n\u001B[0;32m   1224\u001B[0m         )\n\u001B[0;32m   1225\u001B[0m     )\n",
      "\u001B[1;31mValueError\u001B[0m: Value of 'x' is not the name of a column in 'data_frame'. Expected one of ['Скважина', 'p', 'Дата-время'] but received: Date"
     ]
    }
   ],
   "source": [
    "import plotly.express as px\n",
    "\n",
    "for i in list(df['Скважина'].unique()):\n",
    "    print(i)\n",
    "    max_I = max(df[df['Скважина']==i]['p'])\n",
    "    fig = px.line(df[df['Скважина']==i], x='Дата-время', y='p')\n",
    "    fig.update_layout(showlegend=False)\n",
    "    fig.update_xaxes(visible=False)\n",
    "    fig.update_yaxes(visible=False, range=[-max_I, max_I])\n",
    "    fig.show(width=200)"
   ],
   "metadata": {
    "collapsed": false,
    "ExecuteTime": {
     "end_time": "2024-02-27T06:20:34.796719400Z",
     "start_time": "2024-02-27T06:20:33.860721300Z"
    }
   }
  },
  {
   "cell_type": "code",
   "execution_count": 1,
   "outputs": [
    {
     "name": "stdout",
     "output_type": "stream",
     "text": [
      "Collecting plotly\n",
      "  Downloading plotly-5.19.0-py3-none-any.whl.metadata (7.0 kB)\n",
      "Collecting tenacity>=6.2.0 (from plotly)\n",
      "  Downloading tenacity-8.2.3-py3-none-any.whl.metadata (1.0 kB)\n",
      "Requirement already satisfied: packaging in c:\\users\\user\\anaconda3\\envs\\rosneft\\lib\\site-packages (from plotly) (23.1)\n",
      "Downloading plotly-5.19.0-py3-none-any.whl (15.7 MB)\n",
      "   ---------------------------------------- 0.0/15.7 MB ? eta -:--:--\n",
      "   ---------------------------------------- 0.0/15.7 MB ? eta -:--:--\n",
      "   ---------------------------------------- 0.0/15.7 MB ? eta -:--:--\n",
      "   ---------------------------------------- 0.0/15.7 MB 445.2 kB/s eta 0:00:36\n",
      "   ---------------------------------------- 0.0/15.7 MB 445.2 kB/s eta 0:00:36\n",
      "   ---------------------------------------- 0.1/15.7 MB 525.1 kB/s eta 0:00:30\n",
      "   ---------------------------------------- 0.1/15.7 MB 525.1 kB/s eta 0:00:30\n",
      "   ---------------------------------------- 0.1/15.7 MB 450.6 kB/s eta 0:00:35\n",
      "   ---------------------------------------- 0.2/15.7 MB 459.5 kB/s eta 0:00:34\n",
      "   ---------------------------------------- 0.2/15.7 MB 525.1 kB/s eta 0:00:30\n",
      "   ---------------------------------------- 0.2/15.7 MB 525.1 kB/s eta 0:00:30\n",
      "    --------------------------------------- 0.2/15.7 MB 492.1 kB/s eta 0:00:32\n",
      "    --------------------------------------- 0.3/15.7 MB 614.4 kB/s eta 0:00:26\n",
      "    --------------------------------------- 0.3/15.7 MB 614.4 kB/s eta 0:00:26\n",
      "    --------------------------------------- 0.4/15.7 MB 587.1 kB/s eta 0:00:27\n",
      "   - -------------------------------------- 0.4/15.7 MB 638.9 kB/s eta 0:00:24\n",
      "   - -------------------------------------- 0.5/15.7 MB 671.2 kB/s eta 0:00:23\n",
      "   - -------------------------------------- 0.5/15.7 MB 711.5 kB/s eta 0:00:22\n",
      "   - -------------------------------------- 0.6/15.7 MB 763.0 kB/s eta 0:00:20\n",
      "   - -------------------------------------- 0.6/15.7 MB 763.0 kB/s eta 0:00:20\n",
      "   - -------------------------------------- 0.7/15.7 MB 737.3 kB/s eta 0:00:21\n",
      "   - -------------------------------------- 0.7/15.7 MB 767.2 kB/s eta 0:00:20\n",
      "   - -------------------------------------- 0.7/15.7 MB 751.1 kB/s eta 0:00:20\n",
      "   -- ------------------------------------- 0.8/15.7 MB 776.8 kB/s eta 0:00:20\n",
      "   -- ------------------------------------- 0.9/15.7 MB 832.1 kB/s eta 0:00:18\n",
      "   -- ------------------------------------- 0.9/15.7 MB 824.4 kB/s eta 0:00:18\n",
      "   -- ------------------------------------- 0.9/15.7 MB 824.4 kB/s eta 0:00:18\n",
      "   -- ------------------------------------- 1.0/15.7 MB 817.2 kB/s eta 0:00:18\n",
      "   -- ------------------------------------- 1.1/15.7 MB 843.8 kB/s eta 0:00:18\n",
      "   -- ------------------------------------- 1.1/15.7 MB 861.2 kB/s eta 0:00:17\n",
      "   -- ------------------------------------- 1.1/15.7 MB 861.2 kB/s eta 0:00:17\n",
      "   --- ------------------------------------ 1.3/15.7 MB 898.8 kB/s eta 0:00:17\n",
      "   --- ------------------------------------ 1.3/15.7 MB 920.9 kB/s eta 0:00:16\n",
      "   --- ------------------------------------ 1.3/15.7 MB 892.9 kB/s eta 0:00:17\n",
      "   --- ------------------------------------ 1.4/15.7 MB 919.2 kB/s eta 0:00:16\n",
      "   --- ------------------------------------ 1.5/15.7 MB 944.0 kB/s eta 0:00:16\n",
      "   ---- ----------------------------------- 1.6/15.7 MB 970.4 kB/s eta 0:00:15\n",
      "   ---- ----------------------------------- 1.6/15.7 MB 980.5 kB/s eta 0:00:15\n",
      "   ---- ----------------------------------- 1.7/15.7 MB 1.0 MB/s eta 0:00:14\n",
      "   ---- ----------------------------------- 1.8/15.7 MB 1.0 MB/s eta 0:00:14\n",
      "   ---- ----------------------------------- 1.9/15.7 MB 1.0 MB/s eta 0:00:14\n",
      "   ---- ----------------------------------- 2.0/15.7 MB 1.0 MB/s eta 0:00:14\n",
      "   ----- ---------------------------------- 2.0/15.7 MB 1.1 MB/s eta 0:00:13\n",
      "   ----- ---------------------------------- 2.1/15.7 MB 1.1 MB/s eta 0:00:13\n",
      "   ----- ---------------------------------- 2.2/15.7 MB 1.1 MB/s eta 0:00:13\n",
      "   ----- ---------------------------------- 2.3/15.7 MB 1.1 MB/s eta 0:00:13\n",
      "   ----- ---------------------------------- 2.3/15.7 MB 1.1 MB/s eta 0:00:12\n",
      "   ------ --------------------------------- 2.4/15.7 MB 1.1 MB/s eta 0:00:12\n",
      "   ------ --------------------------------- 2.5/15.7 MB 1.1 MB/s eta 0:00:12\n",
      "   ------ --------------------------------- 2.6/15.7 MB 1.2 MB/s eta 0:00:12\n",
      "   ------ --------------------------------- 2.7/15.7 MB 1.2 MB/s eta 0:00:12\n",
      "   ------ --------------------------------- 2.7/15.7 MB 1.2 MB/s eta 0:00:12\n",
      "   ------- -------------------------------- 2.8/15.7 MB 1.2 MB/s eta 0:00:11\n",
      "   ------- -------------------------------- 2.9/15.7 MB 1.2 MB/s eta 0:00:11\n",
      "   ------- -------------------------------- 3.0/15.7 MB 1.2 MB/s eta 0:00:11\n",
      "   ------- -------------------------------- 3.0/15.7 MB 1.2 MB/s eta 0:00:11\n",
      "   ------- -------------------------------- 3.1/15.7 MB 1.2 MB/s eta 0:00:11\n",
      "   -------- ------------------------------- 3.2/15.7 MB 1.2 MB/s eta 0:00:11\n",
      "   -------- ------------------------------- 3.3/15.7 MB 1.2 MB/s eta 0:00:11\n",
      "   -------- ------------------------------- 3.4/15.7 MB 1.2 MB/s eta 0:00:10\n",
      "   -------- ------------------------------- 3.4/15.7 MB 1.3 MB/s eta 0:00:10\n",
      "   --------- ------------------------------ 3.5/15.7 MB 1.3 MB/s eta 0:00:10\n",
      "   --------- ------------------------------ 3.6/15.7 MB 1.3 MB/s eta 0:00:10\n",
      "   --------- ------------------------------ 3.7/15.7 MB 1.3 MB/s eta 0:00:10\n",
      "   --------- ------------------------------ 3.8/15.7 MB 1.3 MB/s eta 0:00:10\n",
      "   --------- ------------------------------ 3.8/15.7 MB 1.3 MB/s eta 0:00:10\n",
      "   --------- ------------------------------ 3.9/15.7 MB 1.3 MB/s eta 0:00:10\n",
      "   ---------- ----------------------------- 4.0/15.7 MB 1.3 MB/s eta 0:00:10\n",
      "   ---------- ----------------------------- 4.0/15.7 MB 1.3 MB/s eta 0:00:09\n",
      "   ---------- ----------------------------- 4.1/15.7 MB 1.3 MB/s eta 0:00:09\n",
      "   ---------- ----------------------------- 4.2/15.7 MB 1.3 MB/s eta 0:00:09\n",
      "   ---------- ----------------------------- 4.3/15.7 MB 1.3 MB/s eta 0:00:09\n",
      "   ----------- ---------------------------- 4.4/15.7 MB 1.3 MB/s eta 0:00:09\n",
      "   ----------- ---------------------------- 4.4/15.7 MB 1.3 MB/s eta 0:00:09\n",
      "   ----------- ---------------------------- 4.5/15.7 MB 1.3 MB/s eta 0:00:09\n",
      "   ----------- ---------------------------- 4.6/15.7 MB 1.3 MB/s eta 0:00:09\n",
      "   ----------- ---------------------------- 4.7/15.7 MB 1.3 MB/s eta 0:00:09\n",
      "   ------------ --------------------------- 4.8/15.7 MB 1.3 MB/s eta 0:00:09\n",
      "   ------------ --------------------------- 4.8/15.7 MB 1.3 MB/s eta 0:00:09\n",
      "   ------------ --------------------------- 4.9/15.7 MB 1.4 MB/s eta 0:00:08\n",
      "   ------------ --------------------------- 5.0/15.7 MB 1.4 MB/s eta 0:00:08\n",
      "   ------------ --------------------------- 5.1/15.7 MB 1.4 MB/s eta 0:00:08\n",
      "   ------------- -------------------------- 5.2/15.7 MB 1.4 MB/s eta 0:00:08\n",
      "   ------------- -------------------------- 5.2/15.7 MB 1.4 MB/s eta 0:00:08\n",
      "   ------------- -------------------------- 5.4/15.7 MB 1.4 MB/s eta 0:00:08\n",
      "   ------------- -------------------------- 5.4/15.7 MB 1.4 MB/s eta 0:00:08\n",
      "   ------------- -------------------------- 5.4/15.7 MB 1.4 MB/s eta 0:00:08\n",
      "   -------------- ------------------------- 5.5/15.7 MB 1.4 MB/s eta 0:00:08\n",
      "   -------------- ------------------------- 5.6/15.7 MB 1.4 MB/s eta 0:00:08\n",
      "   -------------- ------------------------- 5.6/15.7 MB 1.4 MB/s eta 0:00:08\n",
      "   -------------- ------------------------- 5.7/15.7 MB 1.4 MB/s eta 0:00:08\n",
      "   -------------- ------------------------- 5.8/15.7 MB 1.4 MB/s eta 0:00:08\n",
      "   -------------- ------------------------- 5.8/15.7 MB 1.4 MB/s eta 0:00:08\n",
      "   -------------- ------------------------- 5.8/15.7 MB 1.4 MB/s eta 0:00:08\n",
      "   --------------- ------------------------ 6.0/15.7 MB 1.4 MB/s eta 0:00:08\n",
      "   --------------- ------------------------ 6.0/15.7 MB 1.4 MB/s eta 0:00:08\n",
      "   --------------- ------------------------ 6.0/15.7 MB 1.4 MB/s eta 0:00:08\n",
      "   --------------- ------------------------ 6.2/15.7 MB 1.4 MB/s eta 0:00:07\n",
      "   --------------- ------------------------ 6.2/15.7 MB 1.4 MB/s eta 0:00:07\n",
      "   --------------- ------------------------ 6.2/15.7 MB 1.4 MB/s eta 0:00:07\n",
      "   ---------------- ----------------------- 6.3/15.7 MB 1.4 MB/s eta 0:00:07\n",
      "   ---------------- ----------------------- 6.4/15.7 MB 1.4 MB/s eta 0:00:07\n",
      "   ---------------- ----------------------- 6.4/15.7 MB 1.4 MB/s eta 0:00:07\n",
      "   ---------------- ----------------------- 6.5/15.7 MB 1.4 MB/s eta 0:00:07\n",
      "   ---------------- ----------------------- 6.6/15.7 MB 1.4 MB/s eta 0:00:07\n",
      "   ---------------- ----------------------- 6.6/15.7 MB 1.4 MB/s eta 0:00:07\n",
      "   ---------------- ----------------------- 6.6/15.7 MB 1.4 MB/s eta 0:00:07\n",
      "   ----------------- ---------------------- 6.8/15.7 MB 1.4 MB/s eta 0:00:07\n",
      "   ----------------- ---------------------- 6.8/15.7 MB 1.4 MB/s eta 0:00:07\n",
      "   ----------------- ---------------------- 6.8/15.7 MB 1.4 MB/s eta 0:00:07\n",
      "   ----------------- ---------------------- 6.9/15.7 MB 1.4 MB/s eta 0:00:07\n",
      "   ----------------- ---------------------- 7.0/15.7 MB 1.4 MB/s eta 0:00:07\n",
      "   ----------------- ---------------------- 7.0/15.7 MB 1.4 MB/s eta 0:00:07\n",
      "   ------------------ --------------------- 7.1/15.7 MB 1.4 MB/s eta 0:00:07\n",
      "   ------------------ --------------------- 7.2/15.7 MB 1.4 MB/s eta 0:00:07\n",
      "   ------------------ --------------------- 7.2/15.7 MB 1.4 MB/s eta 0:00:07\n",
      "   ------------------ --------------------- 7.3/15.7 MB 1.4 MB/s eta 0:00:07\n",
      "   ------------------ --------------------- 7.4/15.7 MB 1.4 MB/s eta 0:00:07\n",
      "   ------------------ --------------------- 7.4/15.7 MB 1.4 MB/s eta 0:00:07\n",
      "   ------------------- -------------------- 7.5/15.7 MB 1.4 MB/s eta 0:00:06\n",
      "   ------------------- -------------------- 7.6/15.7 MB 1.4 MB/s eta 0:00:06\n",
      "   ------------------- -------------------- 7.7/15.7 MB 1.4 MB/s eta 0:00:06\n",
      "   ------------------- -------------------- 7.7/15.7 MB 1.4 MB/s eta 0:00:06\n",
      "   -------------------- ------------------- 7.8/15.7 MB 1.4 MB/s eta 0:00:06\n",
      "   -------------------- ------------------- 7.9/15.7 MB 1.4 MB/s eta 0:00:06\n",
      "   -------------------- ------------------- 8.0/15.7 MB 1.4 MB/s eta 0:00:06\n",
      "   -------------------- ------------------- 8.0/15.7 MB 1.4 MB/s eta 0:00:06\n",
      "   -------------------- ------------------- 8.2/15.7 MB 1.4 MB/s eta 0:00:06\n",
      "   -------------------- ------------------- 8.2/15.7 MB 1.4 MB/s eta 0:00:06\n",
      "   -------------------- ------------------- 8.2/15.7 MB 1.4 MB/s eta 0:00:06\n",
      "   --------------------- ------------------ 8.4/15.7 MB 1.4 MB/s eta 0:00:06\n",
      "   --------------------- ------------------ 8.5/15.7 MB 1.4 MB/s eta 0:00:06\n",
      "   --------------------- ------------------ 8.5/15.7 MB 1.4 MB/s eta 0:00:06\n",
      "   ---------------------- ----------------- 8.6/15.7 MB 1.4 MB/s eta 0:00:06\n",
      "   ---------------------- ----------------- 8.8/15.7 MB 1.4 MB/s eta 0:00:05\n",
      "   ---------------------- ----------------- 8.8/15.7 MB 1.4 MB/s eta 0:00:05\n",
      "   ---------------------- ----------------- 8.9/15.7 MB 1.4 MB/s eta 0:00:05\n",
      "   ---------------------- ----------------- 9.0/15.7 MB 1.4 MB/s eta 0:00:05\n",
      "   ----------------------- ---------------- 9.1/15.7 MB 1.4 MB/s eta 0:00:05\n",
      "   ----------------------- ---------------- 9.2/15.7 MB 1.4 MB/s eta 0:00:05\n",
      "   ----------------------- ---------------- 9.4/15.7 MB 1.4 MB/s eta 0:00:05\n",
      "   ------------------------ --------------- 9.4/15.7 MB 1.4 MB/s eta 0:00:05\n",
      "   ------------------------ --------------- 9.5/15.7 MB 1.5 MB/s eta 0:00:05\n",
      "   ------------------------ --------------- 9.7/15.7 MB 1.5 MB/s eta 0:00:05\n",
      "   ------------------------ --------------- 9.7/15.7 MB 1.5 MB/s eta 0:00:05\n",
      "   ------------------------- -------------- 9.8/15.7 MB 1.5 MB/s eta 0:00:04\n",
      "   ------------------------- -------------- 10.0/15.7 MB 1.5 MB/s eta 0:00:04\n",
      "   ------------------------- -------------- 10.1/15.7 MB 1.5 MB/s eta 0:00:04\n",
      "   ------------------------- -------------- 10.2/15.7 MB 1.5 MB/s eta 0:00:04\n",
      "   -------------------------- ------------- 10.3/15.7 MB 1.5 MB/s eta 0:00:04\n",
      "   -------------------------- ------------- 10.4/15.7 MB 1.5 MB/s eta 0:00:04\n",
      "   -------------------------- ------------- 10.5/15.7 MB 1.6 MB/s eta 0:00:04\n",
      "   --------------------------- ------------ 10.6/15.7 MB 1.6 MB/s eta 0:00:04\n",
      "   --------------------------- ------------ 10.7/15.7 MB 1.6 MB/s eta 0:00:04\n",
      "   --------------------------- ------------ 10.8/15.7 MB 1.6 MB/s eta 0:00:04\n",
      "   --------------------------- ------------ 11.0/15.7 MB 1.6 MB/s eta 0:00:03\n",
      "   ---------------------------- ----------- 11.1/15.7 MB 1.6 MB/s eta 0:00:03\n",
      "   ---------------------------- ----------- 11.1/15.7 MB 1.7 MB/s eta 0:00:03\n",
      "   ---------------------------- ----------- 11.3/15.7 MB 1.7 MB/s eta 0:00:03\n",
      "   ----------------------------- ---------- 11.4/15.7 MB 1.7 MB/s eta 0:00:03\n",
      "   ----------------------------- ---------- 11.5/15.7 MB 1.7 MB/s eta 0:00:03\n",
      "   ----------------------------- ---------- 11.6/15.7 MB 1.7 MB/s eta 0:00:03\n",
      "   ----------------------------- ---------- 11.7/15.7 MB 1.7 MB/s eta 0:00:03\n",
      "   ------------------------------ --------- 11.8/15.7 MB 1.7 MB/s eta 0:00:03\n",
      "   ------------------------------ --------- 11.9/15.7 MB 1.7 MB/s eta 0:00:03\n",
      "   ------------------------------ --------- 12.1/15.7 MB 1.7 MB/s eta 0:00:03\n",
      "   ------------------------------- -------- 12.2/15.7 MB 1.8 MB/s eta 0:00:02\n",
      "   ------------------------------- -------- 12.3/15.7 MB 1.8 MB/s eta 0:00:02\n",
      "   ------------------------------- -------- 12.5/15.7 MB 1.8 MB/s eta 0:00:02\n",
      "   -------------------------------- ------- 12.6/15.7 MB 1.8 MB/s eta 0:00:02\n",
      "   -------------------------------- ------- 12.7/15.7 MB 1.8 MB/s eta 0:00:02\n",
      "   -------------------------------- ------- 12.9/15.7 MB 1.8 MB/s eta 0:00:02\n",
      "   --------------------------------- ------ 13.0/15.7 MB 1.8 MB/s eta 0:00:02\n",
      "   --------------------------------- ------ 13.2/15.7 MB 1.8 MB/s eta 0:00:02\n",
      "   --------------------------------- ------ 13.3/15.7 MB 1.8 MB/s eta 0:00:02\n",
      "   ---------------------------------- ----- 13.4/15.7 MB 1.9 MB/s eta 0:00:02\n",
      "   ---------------------------------- ----- 13.5/15.7 MB 1.9 MB/s eta 0:00:02\n",
      "   ----------------------------------- ---- 13.7/15.7 MB 1.9 MB/s eta 0:00:02\n",
      "   ----------------------------------- ---- 13.8/15.7 MB 1.9 MB/s eta 0:00:01\n",
      "   ----------------------------------- ---- 14.0/15.7 MB 1.9 MB/s eta 0:00:01\n",
      "   ------------------------------------ --- 14.2/15.7 MB 1.9 MB/s eta 0:00:01\n",
      "   ------------------------------------ --- 14.3/15.7 MB 1.9 MB/s eta 0:00:01\n",
      "   ------------------------------------ --- 14.5/15.7 MB 2.0 MB/s eta 0:00:01\n",
      "   ------------------------------------- -- 14.6/15.7 MB 2.0 MB/s eta 0:00:01\n",
      "   ------------------------------------- -- 14.8/15.7 MB 2.0 MB/s eta 0:00:01\n",
      "   -------------------------------------- - 15.0/15.7 MB 2.0 MB/s eta 0:00:01\n",
      "   -------------------------------------- - 15.1/15.7 MB 2.0 MB/s eta 0:00:01\n",
      "   -------------------------------------- - 15.2/15.7 MB 2.1 MB/s eta 0:00:01\n",
      "   ---------------------------------------  15.4/15.7 MB 2.1 MB/s eta 0:00:01\n",
      "   ---------------------------------------  15.6/15.7 MB 2.1 MB/s eta 0:00:01\n",
      "   ---------------------------------------  15.7/15.7 MB 2.1 MB/s eta 0:00:01\n",
      "   ---------------------------------------- 15.7/15.7 MB 2.1 MB/s eta 0:00:00\n",
      "Downloading tenacity-8.2.3-py3-none-any.whl (24 kB)\n",
      "Installing collected packages: tenacity, plotly\n",
      "Successfully installed plotly-5.19.0 tenacity-8.2.3\n"
     ]
    }
   ],
   "source": [
    "!pip install plotly"
   ],
   "metadata": {
    "collapsed": false,
    "ExecuteTime": {
     "end_time": "2024-02-27T06:13:49.255611Z",
     "start_time": "2024-02-27T06:13:01.595721500Z"
    }
   }
  },
  {
   "cell_type": "code",
   "execution_count": null,
   "outputs": [],
   "source": [],
   "metadata": {
    "collapsed": false
   }
  },
  {
   "cell_type": "code",
   "execution_count": null,
   "outputs": [],
   "source": [],
   "metadata": {
    "collapsed": false
   }
  },
  {
   "cell_type": "code",
   "execution_count": null,
   "outputs": [],
   "source": [],
   "metadata": {
    "collapsed": false
   }
  },
  {
   "cell_type": "code",
   "execution_count": null,
   "outputs": [],
   "source": [],
   "metadata": {
    "collapsed": false
   }
  },
  {
   "cell_type": "code",
   "execution_count": null,
   "outputs": [],
   "source": [],
   "metadata": {
    "collapsed": false
   }
  },
  {
   "cell_type": "code",
   "execution_count": null,
   "outputs": [],
   "source": [],
   "metadata": {
    "collapsed": false
   }
  },
  {
   "cell_type": "code",
   "execution_count": null,
   "outputs": [],
   "source": [],
   "metadata": {
    "collapsed": false
   }
  },
  {
   "cell_type": "code",
   "execution_count": null,
   "metadata": {
    "collapsed": true
   },
   "outputs": [],
   "source": []
  }
 ],
 "metadata": {
  "kernelspec": {
   "display_name": "Python 3",
   "language": "python",
   "name": "python3"
  },
  "language_info": {
   "codemirror_mode": {
    "name": "ipython",
    "version": 2
   },
   "file_extension": ".py",
   "mimetype": "text/x-python",
   "name": "python",
   "nbconvert_exporter": "python",
   "pygments_lexer": "ipython2",
   "version": "2.7.6"
  }
 },
 "nbformat": 4,
 "nbformat_minor": 0
}
